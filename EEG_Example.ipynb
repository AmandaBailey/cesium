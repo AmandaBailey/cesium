{
 "cells": [
  {
   "cell_type": "markdown",
   "metadata": {},
   "source": [
    "# `mltsp` Tutorial: Epilepsy Detection Using EEG Data\n",
    "\n",
    "In this example we'll use the [`mltsp`](http://github.com/mltsp/mltsp/) library to compare various techniques for epilepsy detection using a classic EEG time series dataset from [Andrzejak et al.](http://www.meb.uni-bonn.de/epileptologie/science/physik/eegdata.html). The raw data are separated into five classes: Z, O, N, F, and S; we will consider a three-class classification problem of distinguishing normal (Z, O), interictal (N, F), and ictal (S) signals."
   ]
  },
  {
   "cell_type": "markdown",
   "metadata": {},
   "source": [
    "First, we'll load the data and inspect a representative time series from each class:"
   ]
  },
  {
   "cell_type": "code",
   "execution_count": 1,
   "metadata": {
    "collapsed": false
   },
   "outputs": [
    {
     "name": "stderr",
     "output_type": "stream",
     "text": [
      "WARNING:mltsp.datasets.andrzejak:Loaded data from cached archive.\n"
     ]
    },
    {
     "data": {
      "image/png": "[encoded data removed]",
      "text/plain": [
       "<matplotlib.figure.Figure at 0x107335390>"
      ]
     },
     "metadata": {},
     "output_type": "display_data"
    }
   ],
   "source": [
    "%matplotlib inline\n",
    "import numpy as np\n",
    "import matplotlib.pyplot as plt\n",
    "import seaborn; seaborn.set()\n",
    "\n",
    "from mltsp import datasets\n",
    "\n",
    "eeg = datasets.fetch_andrzejak()\n",
    "eeg.classes = eeg.classes.astype('U16') #  allocate memory for longer class names\n",
    "eeg.classes[np.logical_or(eeg.classes=='Z', eeg.classes=='O')] = 'Normal'\n",
    "eeg.classes[np.logical_or(eeg.classes=='N', eeg.classes=='F')] = 'Interictal'\n",
    "eeg.classes[eeg.classes=='S'] = 'Ictal'\n",
    "fig, ax = plt.subplots(1, len(np.unique(eeg.classes)), sharey=True)\n",
    "for label, subplot in zip(np.unique(eeg.classes), ax):\n",
    "    i = np.where(eeg.classes == label)[0][0]\n",
    "    subplot.plot(eeg.times[i], eeg.measurements[i])\n",
    "    subplot.set(xlabel='time (s)', ylabel='signal', title=label)"
   ]
  },
  {
   "cell_type": "markdown",
   "metadata": {},
   "source": [
    "## Featurization\n",
    "Once the data is loaded, we can generate features for each time series using the [`mltsp.featurize`](https://mltsp.readthedocs.org/en/latest/api/mltsp.featurize.html) module, which will then be used to train machine learning models. Here we've chosen a few generic features that do not have any special biological significance."
   ]
  },
  {
   "cell_type": "code",
   "execution_count": 2,
   "metadata": {
    "collapsed": false
   },
   "outputs": [
    {
     "name": "stdout",
     "output_type": "stream",
     "text": [
      "<xray.Dataset>\n",
      "Dimensions:                    (channel: 1, name: 500)\n",
      "Coordinates:\n",
      "  * channel                    (channel) int64 0\n",
      "  * name                       (name) int64 0 1 2 3 4 5 6 7 8 9 10 11 12 13 ...\n",
      "    target                     (name) <U16 'Normal' 'Normal' 'Normal' ...\n",
      "Data variables:\n",
      "    amplitude                  (name, channel) float64 143.5 211.5 165.0 ...\n",
      "    maximum                    (name, channel) float64 141.0 169.0 184.0 ...\n",
      "    std                        (name, channel) float64 40.41 48.81 47.14 ...\n",
      "    percent_close_to_median    (name, channel) float64 0.505 0.6405 0.516 ...\n",
      "    minimum                    (name, channel) float64 -146.0 -254.0 -146.0 ...\n",
      "    median_absolute_deviation  (name, channel) float64 28.0 32.0 31.0 31.0 ...\n",
      "    median                     (name, channel) float64 -4.0 -51.0 13.0 -4.0 ...\n",
      "    percent_beyond_1_std       (name, channel) float64 0.1626 0.1455 0.1523 ...\n",
      "    weighted_average           (name, channel) float64 -4.132 -52.44 12.71 ...\n",
      "    skew                       (name, channel) float64 0.0328 -0.09271 ...\n",
      "    max_slope                  (name, channel) float64 1.111e+04 2.065e+04 ...\n"
     ]
    }
   ],
   "source": [
    "from mltsp import featurize\n",
    "\n",
    "features_to_use = ['amplitude',\n",
    "                   'percent_beyond_1_std',\n",
    "                   'maximum',\n",
    "                   'max_slope',\n",
    "                   'median',\n",
    "                   'median_absolute_deviation',\n",
    "                   'percent_close_to_median',\n",
    "                   'minimum',\n",
    "                   'skew',\n",
    "                   'std',\n",
    "                   'weighted_average']\n",
    "fset_mltsp = featurize.featurize_time_series(eeg.times, eeg.measurements,\n",
    "                                             None, features_to_use,\n",
    "                                             eeg.classes)\n",
    "print(fset_mltsp)"
   ]
  },
  {
   "cell_type": "markdown",
   "metadata": {},
   "source": [
    "The output of `featurize_time_series` is an `xray.Dataset` which contains all the feature information needed to train a machine learning model: feature values are stored as data variables, and the time series index/class label are stored as coordinates (the `channel` coordinate will be used later for multi-channel data)."
   ]
  },
  {
   "cell_type": "markdown",
   "metadata": {},
   "source": [
    "Custom feature functions not built into `mltsp` may be passed in using the `custom_functions` keyword, either as a dictionary `{feature_name: function}`, or as a [dask graph](http://dask.pydata.org/en/latest/custom-graphs.html). Functions should take three arrays `times, measurements, errors` as inputs; details can be found in the `mltsp.featurize` [documentation](https://mltsp.readthedocs.org/en/latest/api/mltsp.featurize.html#mltsp.featurize.featurize_time_series). Here we'll compute five standard features for EEG analysis provided by [Guo et al. (2012)](http://linkinghub.elsevier.com/retrieve/pii/S0957417411003253)."
   ]
  },
  {
   "cell_type": "code",
   "execution_count": 3,
   "metadata": {
    "collapsed": false
   },
   "outputs": [
    {
     "name": "stdout",
     "output_type": "stream",
     "text": [
      "<xray.Dataset>\n",
      "Dimensions:    (channel: 1, name: 500)\n",
      "Coordinates:\n",
      "  * channel    (channel) int64 0\n",
      "  * name       (name) int64 0 1 2 3 4 5 6 7 8 9 10 11 12 13 14 15 16 17 18 ...\n",
      "    target     (name) <U16 'Normal' 'Normal' 'Normal' 'Normal' 'Normal' ...\n",
      "Data variables:\n",
      "    std        (name, channel) float64 40.41 48.81 47.14 47.07 44.91 45.02 ...\n",
      "    mean2      (name, channel) float64 1.65e+03 5.133e+03 2.384e+03 ...\n",
      "    abs_diffs  (name, channel) float64 4.695e+04 6.112e+04 5.127e+04 ...\n",
      "    skew       (name, channel) float64 0.0328 -0.09271 -0.0041 0.06368 ...\n",
      "    mean       (name, channel) float64 -4.132 -52.44 12.71 -3.992 -18.0 ...\n"
     ]
    }
   ],
   "source": [
    "import scipy.stats\n",
    "\n",
    "guo_features = {\n",
    "    'mean': lambda t, m, e: np.mean(m),\n",
    "    'std': lambda t, m, e: np.std(m),\n",
    "    'mean2': lambda t, m, e: np.mean(m ** 2),\n",
    "    'abs_diffs': lambda t, m, e: np.sum(np.abs(np.diff(m))),\n",
    "    'skew': lambda t, m, e: scipy.stats.skew(m)\n",
    "}\n",
    "fset_guo = featurize.featurize_time_series(eeg.times, eeg.measurements, None, \n",
    "                                           guo_features.keys(), eeg.classes, \n",
    "                                           custom_functions=guo_features)\n",
    "print(fset_guo)"
   ]
  },
  {
   "cell_type": "markdown",
   "metadata": {},
   "source": [
    "The EEG time series considered here consist of univariate signal measurements along a uniform time grid. But `featurize_time_series` also accepts multi-channel data; to demonstrate this, we will decompose each signal into five frequency bands using a discrete wavelet transform as suggested by [Subasi (2005)](http://www.sciencedirect.com/science/article/pii/S0957417404001745), and then featurize each band separately using the five functions from above."
   ]
  },
  {
   "cell_type": "code",
   "execution_count": 4,
   "metadata": {
    "collapsed": false
   },
   "outputs": [
    {
     "name": "stdout",
     "output_type": "stream",
     "text": [
      "<xray.Dataset>\n",
      "Dimensions:    (channel: 5, name: 500)\n",
      "Coordinates:\n",
      "  * channel    (channel) int64 0 1 2 3 4\n",
      "  * name       (name) int64 0 1 2 3 4 5 6 7 8 9 10 11 12 13 14 15 16 17 18 ...\n",
      "    target     (name) <U16 'Normal' 'Normal' 'Normal' 'Normal' 'Normal' ...\n",
      "Data variables:\n",
      "    std        (name, channel) float64 112.5 72.97 48.17 25.77 10.15 119.8 ...\n",
      "    mean2      (name, channel) float64 1.294e+04 5.362e+03 2.321e+03 664.4 ...\n",
      "    abs_diffs  (name, channel) float64 2.513e+04 1.806e+04 3.241e+04 ...\n",
      "    skew       (name, channel) float64 -0.0433 0.06578 0.2999 0.1239 0.1179 ...\n",
      "    mean       (name, channel) float64 -17.08 -6.067 -0.9793 0.1546 0.03555 ...\n"
     ]
    }
   ],
   "source": [
    "import pywt\n",
    "\n",
    "n_channels = 5\n",
    "eeg.dwts = [pywt.wavedec(m, pywt.Wavelet('db1'), level=n_channels-1) for m in eeg.measurements]\n",
    "fset_dwt = featurize.featurize_time_series(None, eeg.dwts, None, \n",
    "                                           guo_features.keys(), eeg.classes, \n",
    "                                           custom_functions=guo_features)\n",
    "print(fset_dwt)"
   ]
  },
  {
   "cell_type": "markdown",
   "metadata": {},
   "source": [
    "The output featureset has the same form as before, except now the `channel` coordinate is used to index the features by the corresponding frequency band. The functions in `mltsp.build_model` and `mltsp.predict` all accept featuresets from single- or multi-channel data, so no additional steps are required to train models or make predictions for multichannel featuresets using the `mltsp` library."
   ]
  },
  {
   "cell_type": "markdown",
   "metadata": {},
   "source": [
    "## Model Building\n",
    "Model building in `mltsp` is handled by the `build_model_from_featureset` function in the `mltsp.build_model` submodule. The featureset output by `featurize_time_series` contains both the feature and target information needed to train a model; `build_model_from_featureset` is simply a wrapper that calls the `fit` method of a given `scikit-learn` model with the appropriate inputs. In the case of multichannel features, it also handles reshaping the featureset into a (rectangular) form that is compatible with `scikit-learn`.\n",
    "\n",
    "For this example, we'll test a random forest classifier for the built-in `mltsp` features, and a 3-nearest neighbors classifier for the others, as suggested by [Guo et al. (2012)](http://linkinghub.elsevier.com/retrieve/pii/S0957417411003253)."
   ]
  },
  {
   "cell_type": "code",
   "execution_count": 5,
   "metadata": {
    "collapsed": false
   },
   "outputs": [],
   "source": [
    "from mltsp.build_model import build_model_from_featureset\n",
    "from sklearn.ensemble import RandomForestClassifier\n",
    "from sklearn.neighbors import KNeighborsClassifier\n",
    "from sklearn.cross_validation import train_test_split\n",
    "\n",
    "train, test = train_test_split(np.arange(len(eeg.classes)))\n",
    "\n",
    "model_mltsp = build_model_from_featureset(fset_mltsp.isel(name=train), \n",
    "                                          RandomForestClassifier(n_estimators=1000,\n",
    "                                                                 max_features='auto',\n",
    "                                                                 random_state=0))\n",
    "model_guo = build_model_from_featureset(fset_guo.isel(name=train), \n",
    "                                        KNeighborsClassifier(n_neighbors=3))\n",
    "model_dwt = build_model_from_featureset(fset_dwt.isel(name=train), \n",
    "                                        KNeighborsClassifier(n_neighbors=3))"
   ]
  },
  {
   "cell_type": "markdown",
   "metadata": {},
   "source": [
    "## Prediction\n",
    "Making predictions for new time series based on these models follows the same pattern: first the time series are featurized using `featurize_time_series`, and then predictions are made based on these features using `mltsp.predict.model_predictions`."
   ]
  },
  {
   "cell_type": "code",
   "execution_count": 6,
   "metadata": {
    "collapsed": false
   },
   "outputs": [
    {
     "name": "stdout",
     "output_type": "stream",
     "text": [
      "Built-in MLTSP features: training accuracy=100.00%, test accuracy=90.40%\n",
      "Guo et al. features: training accuracy=92.27%, test accuracy=85.60%\n",
      "Wavelet transform features: training accuracy=97.60%, test accuracy=98.40%\n"
     ]
    }
   ],
   "source": [
    "from mltsp.predict import model_predictions\n",
    "\n",
    "preds_mltsp = model_predictions(fset_mltsp, model_mltsp, return_probs=False)\n",
    "preds_guo = model_predictions(fset_guo, model_guo, return_probs=False)\n",
    "preds_dwt = model_predictions(fset_dwt, model_dwt, return_probs=False)\n",
    "\n",
    "print(\"Built-in MLTSP features: training accuracy={:.2%}, test accuracy={:.2%}\".format(\n",
    "        np.mean(preds_mltsp[train] == eeg.classes[train]), \n",
    "        np.mean(preds_mltsp[test] == eeg.classes[test])))\n",
    "print(\"Guo et al. features: training accuracy={:.2%}, test accuracy={:.2%}\".format(\n",
    "        np.mean(preds_guo[train] == eeg.classes[train]), \n",
    "        np.mean(preds_guo[test] == eeg.classes[test])))\n",
    "print(\"Wavelet transform features: training accuracy={:.2%}, test accuracy={:.2%}\".format(\n",
    "        np.mean(preds_dwt[train] == eeg.classes[train]), \n",
    "        np.mean(preds_dwt[test] == eeg.classes[test])))"
   ]
  },
  {
   "cell_type": "markdown",
   "metadata": {},
   "source": [
    "The workflow presented here is intentionally simplistic and omits many important steps such as feature selection, model parameter selection, etc. Since we make use of standard `scikit-learn` models, additional steps can be incorporated in exactly the way as for any other (non-time domain) machine learning problem."
   ]
  }
 ],
 "metadata": {
  "kernelspec": {
   "display_name": "Python 3",
   "language": "python",
   "name": "python3"
  },
  "language_info": {
   "codemirror_mode": {
    "name": "ipython",
    "version": 3
   },
   "file_extension": ".py",
   "mimetype": "text/x-python",
   "name": "python",
   "nbconvert_exporter": "python",
   "pygments_lexer": "ipython3",
   "version": "3.5.0"
  }
 },
 "nbformat": 4,
 "nbformat_minor": 0
}
